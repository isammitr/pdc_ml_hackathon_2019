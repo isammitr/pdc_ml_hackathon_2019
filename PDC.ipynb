{
 "cells": [
  {
   "cell_type": "code",
   "execution_count": 1,
   "metadata": {},
   "outputs": [],
   "source": [
    "import pandas as pd"
   ]
  },
  {
   "cell_type": "code",
   "execution_count": 2,
   "metadata": {},
   "outputs": [],
   "source": [
    "df = pd.read_json(\"pdc_ml_hackathon_2019-master/data/train.json\")"
   ]
  },
  {
   "cell_type": "code",
   "execution_count": 4,
   "metadata": {},
   "outputs": [
    {
     "data": {
      "text/plain": [
       "(13276, 68)"
      ]
     },
     "execution_count": 4,
     "metadata": {},
     "output_type": "execute_result"
    }
   ],
   "source": [
    "df.shape"
   ]
  },
  {
   "cell_type": "code",
   "execution_count": 5,
   "metadata": {},
   "outputs": [
    {
     "name": "stdout",
     "output_type": "stream",
     "text": [
      "<class 'pandas.core.frame.DataFrame'>\n",
      "RangeIndex: 13276 entries, 0 to 13275\n",
      "Data columns (total 68 columns):\n",
      "_score                                             13276 non-null float64\n",
      "_source_ask                                        13276 non-null object\n",
      "_source_coachable                                  13276 non-null object\n",
      "_source_country_code                               13276 non-null object\n",
      "_source_discoverable                               13276 non-null object\n",
      "_source_sponsored_campaign                         13276 non-null object\n",
      "_source_sponsorship_active                         13276 non-null object\n",
      "_source_user_state                                 13276 non-null object\n",
      "filename                                           13276 non-null object\n",
      "highlight_ask                                      13276 non-null object\n",
      "highlight_description                              13276 non-null object\n",
      "highlight_letter_body                              13276 non-null object\n",
      "highlight_targeting_description                    13276 non-null object\n",
      "petition_ask                                       13276 non-null object\n",
      "petition_calculated_goal                           13276 non-null int64\n",
      "petition_category                                  13276 non-null object\n",
      "petition_created_at                                13276 non-null datetime64[ns]\n",
      "petition_description                               13276 non-null object\n",
      "petition_discoverable                              13276 non-null object\n",
      "petition_display_title                             13276 non-null object\n",
      "petition_displayed_signature_count                 13276 non-null int64\n",
      "petition_goal                                      13276 non-null object\n",
      "petition_id                                        13276 non-null int64\n",
      "petition_is_victory                                13276 non-null object\n",
      "petition_languages                                 13276 non-null object\n",
      "petition_letter_body                               13276 non-null object\n",
      "petition_organization_city                         13276 non-null object\n",
      "petition_organization_country_code                 13276 non-null object\n",
      "petition_organization_formatted_location_string    13276 non-null object\n",
      "petition_organization_id                           13276 non-null int64\n",
      "petition_organization_name                         13276 non-null object\n",
      "petition_organization_non_profit                   13276 non-null object\n",
      "petition_organization_postal_code                  13276 non-null object\n",
      "petition_organization_slug                         13276 non-null object\n",
      "petition_organization_state                        13276 non-null object\n",
      "petition_organization_state_code                   13276 non-null object\n",
      "petition_organization_zipcode                      13276 non-null object\n",
      "petition_original_locale                           13276 non-null object\n",
      "petition_petition_status                           13276 non-null object\n",
      "petition_primary_target_additional_data_title      13276 non-null object\n",
      "petition_primary_target_description                13276 non-null object\n",
      "petition_primary_target_display_name               13276 non-null object\n",
      "petition_primary_target_email                      13276 non-null object\n",
      "petition_primary_target_is_person                  13276 non-null object\n",
      "petition_primary_target_locale                     13276 non-null object\n",
      "petition_primary_target_publicly_visible           13276 non-null object\n",
      "petition_primary_target_slug                       13276 non-null object\n",
      "petition_primary_target_summary                    13276 non-null object\n",
      "petition_primary_target_type                       13276 non-null object\n",
      "petition_primary_target_verified_at                13276 non-null object\n",
      "petition_progress                                  13276 non-null float64\n",
      "petition_published_at                              13276 non-null datetime64[ns]\n",
      "petition_relevant_location_city                    13276 non-null object\n",
      "petition_relevant_location_country_code            13276 non-null object\n",
      "petition_relevant_location_lat                     13276 non-null object\n",
      "petition_relevant_location_lng                     13276 non-null object\n",
      "petition_relevant_location_state_code              13276 non-null object\n",
      "petition_restricted_location                       13276 non-null object\n",
      "petition_slug                                      13276 non-null object\n",
      "petition_sponsored_campaign                        13276 non-null object\n",
      "petition_targeting_description                     13276 non-null object\n",
      "petition_title                                     13276 non-null object\n",
      "petition_total_signature_count                     13276 non-null int64\n",
      "petition_user_city                                 13276 non-null object\n",
      "petition_user_country_code                         13276 non-null object\n",
      "petition_user_description                          13276 non-null object\n",
      "petition_user_state_code                           13276 non-null object\n",
      "petition_weekly_signature_count                    13276 non-null int64\n",
      "dtypes: datetime64[ns](2), float64(2), int64(6), object(58)\n",
      "memory usage: 6.9+ MB\n"
     ]
    }
   ],
   "source": [
    "df.info()"
   ]
  },
  {
   "cell_type": "code",
   "execution_count": 9,
   "metadata": {},
   "outputs": [
    {
     "data": {
      "text/plain": [
       "array([2.3791382, 'MTA, LIRR, NYCT: South Queens Needs Transit!', 'False',\n",
       "       'US', 'True', 'False', 'True', 'NY', 'textfile_1010.json',\n",
       "       \"['Use public <mark>infrastructure</mark> for state sponsored conferences']\",\n",
       "       \"[' <mark>infrastructure</mark>, not just cater to the fleeting whims of tourists.\\\\xa0 We’re real people, real New Yorkers, and we']\",\n",
       "       \"[' <mark>infrastructure</mark>, not just cater to the fleeting whims of tourists.  We’re real people, real New Yorkers, and we']\",\n",
       "       \"['Prime Minister of India, MINISTRY OF <mark>ENVIRONMENT</mark> AND FOREST']\",\n",
       "       'MTA, LIRR, NYCT: South Queens Needs Transit!', 1000,\n",
       "       'infrastructure', Timestamp('2017-06-14 15:03:54'),\n",
       "       \"<p><strong>MTA, NYCT and LIRR - South Queens Needs Real Transit. We Need the RBRL!</strong></p>\\n<p>We applaud the MTA, NYCT and the LIRR for moving forward on the evaluation for reactivating the dormant Rockaway Beach Rail Line. \\xa0It would be crazy to let the political window close on maybe the best and most permanent fix for our transit issues.\\xa0 We also applaud them for cooperating on hiring an outside consultant to work on the project together, to give the proposal due consideration.</p>\\n<p><strong>For eighty years (from 1880 to 1960), we had a 40-minute commute to Midtown, and now it’s an hour twenty minutes.\\xa0 So clearly it can be done, and the time is right now!</strong></p>\\n<p><strong>Here's the good news: there's nothing as loud as our need for, and support of, real transit options - because we need them TO GO TO WORK and do everything else New Yorkers do!</strong></p>\\n<p>Folks are realizing what a great value our area is and coming here in droves.\\xa0 That’s great.\\xa0 But we need to use this moment to make smart decisions and invest in permanent transit infrastructure, not just cater to the fleeting whims of tourists.\\xa0 We’re real people, real New Yorkers, and we need real consideration.\\xa0 And that starts with a transit plan that sees us as more than a tourist trap.</p>\\n<p>Thank you, MTA, LIRR and NYCT for giving this proposal a real assessment.\\xa0 <strong>Now it's time to get the assessment done quickly, and present the community with a real option!</strong></p>\",\n",
       "       'True', 'MTA, LIRR, NYCT: South Queens NEEDS TRANSIT!', 738,\n",
       "       'None', 11515208, 'False', \"['en']\",\n",
       "       \"MTA, NYCT and LIRR - South Queens Needs Real Transit. We Need the RBRL!\\nWe applaud the MTA, NYCT and the LIRR for moving forward on the evaluation for reactivating the dormant Rockaway Beach Rail Line.  It would be crazy to let the political window close on maybe the best and most permanent fix for our transit issues.  We also applaud them for cooperating on hiring an outside consultant to work on the project together, to give the proposal due consideration.\\nFor eighty years (from 1880 to 1960), we had a 40-minute commute to Midtown, and now it’s an hour twenty minutes.  So clearly it can be done, and the time is right now!\\nHere's the good news: there's nothing as loud as our need for, and support of, real transit options - because we need them TO GO TO WORK and do everything else New Yorkers do!\\nFolks are realizing what a great value our area is and coming here in droves.  That’s great.  But we need to use this moment to make smart decisions and invest in permanent transit infrastructure, not just cater to the fleeting whims of tourists.  We’re real people, real New Yorkers, and we need real consideration.  And that starts with a transit plan that sees us as more than a tourist trap.\\nThank you, MTA, LIRR and NYCT for giving this proposal a real assessment.  Now it's time to get the assessment done quickly, and present the community with a real option!\",\n",
       "       '', 'US', 'United States', 2984860, 'Seattle Streetcar Coalition',\n",
       "       'False', '', 'seattle_streetcar_coalition', '', '', '', 'en-US',\n",
       "       'closed', 'None', 'None',\n",
       "       'NYC Metropolitan Transportation Authority', 'None', 'True',\n",
       "       'None', 'False', 'nyc-metropolitan-transportation-authority',\n",
       "       'None', 'Custom', 'None', 73.8, Timestamp('2017-06-14 15:03:54'),\n",
       "       'None', 'US', 'None', 'None', 'None', 'None',\n",
       "       'mta-lirr-nyct-south-queens-needs-transit', 'False',\n",
       "       'NYC Metropolitan Transportation Authority, New York City Transit, Long Island Rail Road',\n",
       "       'MTA, LIRR, NYCT: South Queens NEEDS TRANSIT!', 738,\n",
       "       'Rockaway Beach', 'US',\n",
       "       'Communications director for Assemblywoman Stacey Pheffer Amato (D-Rockaway Beach)',\n",
       "       'NY', 0], dtype=object)"
      ]
     },
     "execution_count": 9,
     "metadata": {},
     "output_type": "execute_result"
    }
   ],
   "source": [
    "df.iloc[0].values"
   ]
  }
 ],
 "metadata": {
  "kernelspec": {
   "display_name": "Python 3",
   "language": "python",
   "name": "python3"
  },
  "language_info": {
   "codemirror_mode": {
    "name": "ipython",
    "version": 3
   },
   "file_extension": ".py",
   "mimetype": "text/x-python",
   "name": "python",
   "nbconvert_exporter": "python",
   "pygments_lexer": "ipython3",
   "version": "3.6.4"
  }
 },
 "nbformat": 4,
 "nbformat_minor": 2
}
